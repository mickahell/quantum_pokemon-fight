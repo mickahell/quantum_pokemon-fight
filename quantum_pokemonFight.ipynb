{
 "cells": [
  {
   "cell_type": "markdown",
   "metadata": {},
   "source": [
    "# Pokemon Quantum fight"
   ]
  },
  {
   "cell_type": "markdown",
   "metadata": {},
   "source": [
    "## Table of Contents\n",
    "\n",
    "* [Pre-requisites](#chap0)\n",
    "* [The idea](#idea)\n",
    "* [The game](#game)\n",
    "    * [General processes](#general_process)\n",
    "* [Artificial Intelligence](#ai)\n",
    "    * [Strategy](#strategy)\n",
    "    * [Grover's algorithm](#grover)\n",
    "    * [QRAM](#qram)\n",
    "    * [General algorithm](#algorithm)\n",
    "* [And now ?](#then)\n",
    "* [References](#references)"
   ]
  },
  {
   "cell_type": "markdown",
   "metadata": {},
   "source": [
    "## Pre-requisites <a class=\"anchor\" id=\"chap0\"></a>\n",
    "Before starting, we need to install qiskit, for which we need to execute the following cell:"
   ]
  },
  {
   "cell_type": "code",
   "execution_count": null,
   "metadata": {},
   "outputs": [],
   "source": [
    "%pip install qiskit\n",
    "%pip install qiskit[visualization]\n",
    "%pip install numpy\n",
    "%pip install matplotlib"
   ]
  },
  {
   "cell_type": "markdown",
   "metadata": {},
   "source": [
    "To test your installation :"
   ]
  },
  {
   "cell_type": "code",
   "execution_count": null,
   "metadata": {},
   "outputs": [],
   "source": [
    "import math\n",
    "from random import *\n",
    "from IPython.display import Image, display, YouTubeVideo\n",
    "import numpy as np\n",
    "import qiskit\n",
    "from qiskit import Aer, QuantumCircuit, execute, IBMQ, QuantumRegister, ClassicalRegister\n",
    "from qiskit.visualization import plot_histogram, plot_bloch_multivector\n",
    "qiskit.__qiskit_version__"
   ]
  },
  {
   "cell_type": "markdown",
   "metadata": {},
   "source": [
    "In order to initialize our quantum computer just run the following cell :"
   ]
  },
  {
   "cell_type": "code",
   "execution_count": null,
   "metadata": {},
   "outputs": [],
   "source": [
    "# Initialize Qasm simulator backend\n",
    "qasm = Aer.get_backend('qasm_simulator')\n",
    "\n",
    "# Initialize Real Quantum computer\n",
    "# If you run qiskit on a real computer for the first time, you will need to create an account on https://quantum-computing.ibm.com/login\n",
    "# and run the following line with you token.\n",
    "#IBMQ.save_account('MY_API_TOKEN')\n",
    "\n",
    "IBMQ.load_account()\n",
    "provider = IBMQ.get_provider('ibm-q')\n",
    "quantum_computer = provider.get_backend('ibmq_16_melbourne')\n",
    "\n",
    "# Here we will use the local simulator --> Aer\n",
    "backend_sim = qasm  # Choose your backend : <quantum_computer> or <qasm>"
   ]
  },
  {
   "cell_type": "markdown",
   "metadata": {},
   "source": [
    "## Idea behind <a class=\"anchor\" id=\"idea\"></a>\n",
    "The main idea of this game code came due to Nostalgia. If you were born in the 90's you certainly played the first Pokemon games, Red and Blue (not you Yellow) and of course you would remeber the opening of the game:"
   ]
  },
  {
   "cell_type": "code",
   "execution_count": null,
   "metadata": {},
   "outputs": [],
   "source": [
    "YouTubeVideo('C19O5xm51dk')"
   ]
  },
  {
   "cell_type": "markdown",
   "metadata": {},
   "source": [
    "This first fight gave me the idea of doing this program, but with a quantumification of every process and a possibility of giving the opponent a quantum AI of sorts.\n",
    "Here in this post, I'll not go deep into the classical framework but mainly into the quantum processes."
   ]
  },
  {
   "cell_type": "markdown",
   "metadata": {},
   "source": [
    "## The game <a class=\"anchor\" id=\"game\"></a>\n",
    "The game is executed by python programming and consists of:\n",
    "- initialization of the objects\n",
    "    - choice of quantum backend\n",
    "    - types\n",
    "    - attacks\n",
    "    - pokemon\n",
    "    - players\n",
    "- fight\n",
    "    - team creation\n",
    "    - choice of action -> attack or switch (quantum)\n",
    "        - if attack -> choice of attack (quantum)\n",
    "        - if switch -> choice of pokemon switch (quantum)\n",
    "    - choice of who attacks first by the level of speed\n",
    "    - whether choice of speeds of both pokemon are the same (quantum)\n",
    "    - precision of the attack (quantum)\n",
    "    - critical attack (quantum)\n",
    "    - applying condition -> poison / paralyze / burn / freeze (quantum)\n",
    "    - choice of next pokemon if AI pokemon is KO (quantum)\n",
    "\n",
    "We perform every probability calculations and opponent decision(s) by quantum processes. The perfect structure could be illustrated as:"
   ]
  },
  {
   "cell_type": "code",
   "execution_count": null,
   "metadata": {},
   "outputs": [],
   "source": [
    "Image(\"images_jupyter/structure.png\", width=\"700\")"
   ]
  },
  {
   "cell_type": "markdown",
   "metadata": {},
   "source": [
    "### General processes <a class=\"anchor\" id=\"general_process\"></a>\n",
    "As shown in my illustration above, I use the same quantum computer for all of my probability calculations and as the only difference between these calculations are the probabilities of occurences, I just use the same circuit but with a different angle of theta (rotation)."
   ]
  },
  {
   "cell_type": "markdown",
   "metadata": {},
   "source": [
    "#### Precision / Critical / condition / Speed draw\n",
    "- When a pokemon declares an attack, the first thing to do is to check if the attack can affect the opponent, this is done by doing a check on the accuracy of the move. We call this number $\\psi$ (say $psi$) and then I'm creating a qubit and appling a quantum rotation gate of angle $\\pi*\\psi$.\n",
    "\n",
    "If the accuracy is $100\\%$, my qubit will flip from 0 to 1, thus the attack affects the target. If the attack has an accurancy of $70\\%$, the qubit will be in a superposition and its the role of the measurement to \"choose\" if the qubit will collapse to the state 0 or go to state 1.\n",
    "\n",
    "\n",
    "- Next, we check the probability of critical attack, apart from some exceptions this number is always the same, approximatly $4\\%$ ($4.17\\%$). With this number we'll apply the same transformation as the accuracy check.\n",
    "\n",
    "\n",
    "- Finally we check if the move is of fire, poison, electric or ice type. If so, we apply to a qubit a transformation of the respective accuracy ($10\\%$, $30\\%$, $30\\%$ and $10\\%$) and see if a condition of burn, poison, paralysis or freeze will apply.\n",
    "\n",
    "\n",
    "- Usually, the order of which pokemon moves first is decided by their speed, but sometimes both have the same speed. In this case, we put a qubit in a perfect superposition by rotation by $\\frac{\\pi}{2}$."
   ]
  },
  {
   "cell_type": "code",
   "execution_count": null,
   "metadata": {},
   "outputs": [],
   "source": [
    "attack = 0.7 # Accuracy of the attack, most of the attacks are of precision 100%, 90% or 70%\n",
    "crit = 0.0417 # Critical \n",
    "burn = 0.1\n",
    "poison = 0.3\n",
    "para = 0.3\n",
    "freeze = 0.1\n",
    "speedtie = 0.5\n",
    "\n",
    "qc = QuantumCircuit(1, 1)\n",
    "\n",
    "qc.rx(math.pi * attack, 0) # The gate RX is like a NOT gate which allows us to define the angle theta and apply rotation\n",
    "qc.measure(0, 0)\n",
    "\n",
    "qc.draw()"
   ]
  },
  {
   "cell_type": "markdown",
   "metadata": {},
   "source": [
    "Now we have our circuit, run the following cell to read the result and see if the attack affects the opponent."
   ]
  },
  {
   "cell_type": "code",
   "execution_count": null,
   "metadata": {},
   "outputs": [],
   "source": [
    "job = execute(qc, backend_sim, shots=1, memory=True)\n",
    "result_job = job.result().get_memory()\n",
    "to_return = int(result_job[0], 2)\n",
    "if to_return == 1:\n",
    "    print(\"Result : {}, the attack succeeded!\".format(to_return))\n",
    "else:\n",
    "    print(\"Result : {}, the attack missed the target!\".format(to_return))"
   ]
  },
  {
   "cell_type": "markdown",
   "metadata": {},
   "source": [
    "As you can see, most of the time the result is flipping from 0 to 1 but sometimes the superposition collapses to 0 instead."
   ]
  },
  {
   "cell_type": "markdown",
   "metadata": {},
   "source": [
    "## Artificial Intelligence <a class=\"anchor\" id=\"ai\"></a>\n",
    "Here comes the main part of the program, the real challenge. How to program the quantum computer opponent to be a good challenger to you!?!? \n",
    "We'll try to make something \"simple\" so we'll not program some fancy neural network to make the computer better and better but we \"just\" make it such that it knows the basic rules that each of us already know:\n",
    "- type mapping\n",
    "- switching or attacking\n",
    "\n",
    "### Strategy <a class=\"anchor\" id=\"strategy\"></a>\n",
    "To program our quantum brain, here a quick reminder of the Pokemon strategy. Every type has their weaknesses and their resistances.  When a Pokemon attacks by a move from one of it's weakness it takes double the damage and when it's attacked by a move from the set of types to which it is resistant, it take half of the damage.\n",
    "The entire type mapping are available here : https://boutique-pokemon.com/blogs/blog-pokemon/table-types-pokemon (french version)."
   ]
  },
  {
   "cell_type": "markdown",
   "metadata": {},
   "source": [
    "There are different ways to program it, I am using the Vertex Cover algorithm. The principe of this algorithm is to map everything in to a graph. More information about this algorithm here: https://en.wikipedia.org/wiki/Vertex_cover\n",
    "\n",
    "That'll allow us to make our types interact with each other in something like this:"
   ]
  },
  {
   "cell_type": "code",
   "execution_count": null,
   "metadata": {},
   "outputs": [],
   "source": [
    "Image(\"images_jupyter/types_graph.png\", width=\"500\")"
   ]
  },
  {
   "cell_type": "markdown",
   "metadata": {},
   "source": [
    "Here the alphabet vertices (P, Q) are both the fighters and the number vertices on the left are the type of the moves, indicate the type weaknesses of the fighter at right. This graph is the key to program all of the actions of our quantum computer. With this graph in mind, it'll attack with the strongest move or switch if its fighter is in a disadvantage."
   ]
  },
  {
   "cell_type": "markdown",
   "metadata": {},
   "source": [
    "#### Quantumification\n",
    "Now we have a basic graph, how can we translate it to quantum computing? We need to have a structure which gives us most of the time the best answer. Finding a structure which can have all inputs possible and give us the correct output no matter what! Here comes Grover's algorithm..."
   ]
  },
  {
   "cell_type": "markdown",
   "metadata": {},
   "source": [
    "### Grover's algorithm <a class=\"anchor\" id=\"grover\"></a>\n",
    "You may have already heard that one of the many advantages of a quantum computer is database searching speedup. Indeed that's the role of the Grover's algorithm.\n",
    "\n",
    "#### Method\n",
    "Grover's algorithm uses the amplitude amplification to identify correct solution(s). Grovers uses several inputs and with a diffuser, amplifies the inputs which match the oracle to give the output. \n",
    "\n",
    "Example:"
   ]
  },
  {
   "cell_type": "code",
   "execution_count": null,
   "metadata": {},
   "outputs": [],
   "source": [
    "def diffuser(nqubits):\n",
    "    qc = QuantumCircuit(nqubits)\n",
    "    for qubit in range(nqubits):\n",
    "        qc.h(qubit)\n",
    "    for qubit in range(nqubits):\n",
    "        qc.x(qubit)\n",
    "    qc.h(nqubits - 1)\n",
    "    qc.mct(list(range(nqubits - 1)), nqubits - 1)\n",
    "    qc.h(nqubits - 1)\n",
    "    for qubit in range(nqubits):\n",
    "        qc.x(qubit)\n",
    "    for qubit in range(nqubits):\n",
    "        qc.h(qubit)\n",
    "    U_s = qc.to_gate()\n",
    "    U_s.name = \"$Diff$\"\n",
    "    return U_s\n",
    "\n",
    "algo = QuantumRegister(3, 'algo')\n",
    "oracle = QuantumRegister(1, 'oracle')\n",
    "c = ClassicalRegister(3, 'measurement')\n",
    "qc = QuantumCircuit(algo, oracle, c)\n",
    "\n",
    "qc.append(diffuser(3), [0, 1, 2])\n",
    "\n",
    "qc.draw()\n",
    "algo = QuantumRegister(3, 'algo')\n",
    "oracle = QuantumRegister(1, 'oracle')\n",
    "c = ClassicalRegister(3, 'measurement')\n",
    "qc = QuantumCircuit(algo, oracle, c)\n",
    "\n",
    "# Init\n",
    "qc.h(algo)\n",
    "qc.x(oracle)\n",
    "qc.h(oracle)\n",
    "qc.barrier()\n",
    "\n",
    "# Algorithm\n",
    "qc.mcx(algo, oracle)\n",
    "qc.barrier()\n",
    "\n",
    "# Diffuser\n",
    "qc.append(diffuser(3), [0, 1, 2])\n",
    "\n",
    "# Measure of the ouputs\n",
    "qc.barrier()\n",
    "qc.measure(algo, c)\n",
    "\n",
    "qc.draw()"
   ]
  },
  {
   "cell_type": "markdown",
   "metadata": {},
   "source": [
    "- The inputs are represented by the qubits \"algo_\" on the top\n",
    "- The algorithm is represented by the CNOT gate in the middle\n",
    "- The diffuser is represented by the big block at the end\n",
    "- The oracle is at the last qubit, it's in superposition state $|->$, for phase inversion of inputs which match the required conditions.\n",
    "\n",
    "Here all our inputs are in superposition with each others, so we have something like : $\\frac{|000> + |001> + |010> + ... |111>}{\\sqrt{8}}$.\n",
    "<br/>Then our algorithm is only an MCT gate and will be activated only if all the qubits are in state 1, so that only the inputs $|111>$ will flip the oracle qubit to add a phase of $(-1)$ to this input.\n",
    "<br/>Finally our diffuser is going to read all of the inputs and if it sees an input with a negative phase, it'll amplify this input to $3 * \\theta$ (or $2 * \\theta$ depending on its initial amplitude and number of states)."
   ]
  },
  {
   "cell_type": "code",
   "execution_count": null,
   "metadata": {},
   "outputs": [],
   "source": [
    "job = execute(qc, backend_sim, shots=512)\n",
    "result_job = job.result()\n",
    "plot_histogram(result_job.get_counts())"
   ]
  },
  {
   "cell_type": "markdown",
   "metadata": {},
   "source": [
    "Here in our results, notice that most of the time the result is our predicted answer.\n",
    "\n",
    "More information about Grover here :"
   ]
  },
  {
   "cell_type": "markdown",
   "metadata": {},
   "source": [
    "### QRAM <a class=\"anchor\" id=\"qram\"></a>\n",
    "First thing first, how can we pass our inputs to Grover? In the above general example of using Grover, we gave it 3 random qubits, but we want to give it our list of attacks or the type of our fighter instead. To do that, we'll use a QRAM (Quantum Random Access Memory), like classical RAM. It'll allow us to map every input we want."
   ]
  },
  {
   "cell_type": "markdown",
   "metadata": {},
   "source": [
    "#### Attacks\n",
    "To give an example of QRAM, we'll map all of the attack move types of our fighter:"
   ]
  },
  {
   "cell_type": "code",
   "execution_count": null,
   "metadata": {},
   "outputs": [],
   "source": [
    "# We have our Blastoise (Tortank in French) with 4 attacks : hydroblast, earthquake, ice beam, giga-impact\n",
    "# We want to map all our attacks to their respective type(s) like: \n",
    "# [hydroblast : water, earthquake : ground , ice beam : ice , giga-impact : normal]\n",
    "\n",
    "# Init register\n",
    "qram_q = QuantumRegister(2, 'qram') # We have 4 elements to map, so 2 qubits are enough\n",
    "normal_q = QuantumRegister(1, 'normal')\n",
    "fire_q = QuantumRegister(1, 'fire')\n",
    "grass_q = QuantumRegister(1, 'grass')\n",
    "ground_q = QuantumRegister(1, 'ground')\n",
    "fly_q = QuantumRegister(1, 'fly')\n",
    "water_q = QuantumRegister(1, 'water')\n",
    "elec_q = QuantumRegister(1, 'electric')\n",
    "ice_q = QuantumRegister(1, 'ice')\n",
    "bug_q = QuantumRegister(1, 'bug')\n",
    "steel_q = QuantumRegister(1, 'steel')\n",
    "qc_init = QuantumCircuit(qram_q)\n",
    "\n",
    "# Init qubits\n",
    "qc_init.h(qram_q) # Init our inputs to superposition\n",
    "#qc.barrier()\n",
    "\n",
    "qc_qram = QuantumCircuit(qram_q, normal_q, fire_q, grass_q, ground_q, fly_q, water_q, elec_q, ice_q, bug_q, steel_q, c)\n",
    "\n",
    "# Mapping attacks\n",
    "## First attack is going to be on the address 00, hydroblast\n",
    "qc_qram.x(qram_q)\n",
    "qc_qram.ccx(qram_q[0], qram_q[1], water_q)\n",
    "qc_qram.x(qram_q)\n",
    "qc_qram.barrier()\n",
    "## Second attack -> 01, earthquake\n",
    "qc_qram.x(qram_q[0])\n",
    "qc_qram.ccx(qram_q[0], qram_q[1], ground_q)\n",
    "qc_qram.x(qram_q[0])\n",
    "qc_qram.barrier()\n",
    "## Third attack -> 10, ice beam\n",
    "qc_qram.x(qram_q[1])\n",
    "qc_qram.ccx(qram_q[0], qram_q[1], ice_q)\n",
    "qc_qram.x(qram_q[1])\n",
    "qc_qram.barrier()\n",
    "## Fourth attack -> 11, giga impact\n",
    "qc_qram.ccx(qram_q[0], qram_q[1], normal_q)\n",
    "qc_qram.barrier()\n",
    "\n",
    "qc_initQram = qc_init + qc_qram\n",
    "qc_initQram.draw()"
   ]
  },
  {
   "cell_type": "markdown",
   "metadata": {},
   "source": [
    "The X gate allow us to check the state of the qubit, if the qubits are on 1, the X gate is going to flip it to 0 and so the gate CCX will do nothing. If we add measurement gate(s) and analyse the result:"
   ]
  },
  {
   "cell_type": "code",
   "execution_count": null,
   "metadata": {},
   "outputs": [],
   "source": [
    "c = ClassicalRegister(8, 'measure')\n",
    "qram_measure = QuantumCircuit(c)\n",
    "qc = qc_initQram + qram_measure\n",
    "qc.measure(range(8), range(8))\n",
    "qc = qc.reverse_bits()\n",
    "job = execute(qc, backend_sim, shots=512)\n",
    "result_job = job.result()\n",
    "plot_histogram(result_job.get_counts())"
   ]
  },
  {
   "cell_type": "markdown",
   "metadata": {},
   "source": [
    "Here we map our the attacks of our actual fighter and match with their type."
   ]
  },
  {
   "cell_type": "markdown",
   "metadata": {},
   "source": [
    "#### Switch <a class=\"anchor\" id=\"switch\"></a>\n",
    "For switching it's similar, but we have to map all of our pokemons on X qubits and all of their attack types. For a team of 3 pokemons, we map the pokemon on the first qubit(s) and the attack on the next 2 qubits."
   ]
  },
  {
   "cell_type": "markdown",
   "metadata": {},
   "source": [
    "#### Choose move <a class=\"anchor\" id=\"choose\"></a>\n",
    "At the beginning of the post, I mentioned that the quantum computer has to choose if it has to do an attack or to switch Pokemon. To make this choice, we map the actual fighter of the opponent and see if it's type is a weakness of ours. If yes, the quantum computer will choose to switch Pokemon, else it'll choose to attack."
   ]
  },
  {
   "cell_type": "markdown",
   "metadata": {},
   "source": [
    "Now we know how to create our quantum structure, how to map our inputs and know the design of our oracle (the graph). Let glue each part together."
   ]
  },
  {
   "cell_type": "markdown",
   "metadata": {},
   "source": [
    "### General algorithm <a class=\"anchor\" id=\"algorithm\"></a>\n",
    "The main algorithm is the mapping algorithm and we'll use it to find the best attack move, finding the best switch to another pokemon and to help the computer to choose if it has to attack or switch if its actual current fighter is in danger. To illustrate an example, we want our computer to find the best move.\n",
    "To do that we need:\n",
    "- first -> give to our circuit the type of the moves our fighter knows. We did it in the above example ;)\n",
    "- second -> map the weakness(es) and resistance(s) of the opponent fighter\n",
    "- third -> mixing weakness(es) and resistance(s) together to know whether each move is very strong or not\n",
    "- last -> adding the Grover diffuser\n",
    "\n",
    "Lets imagine, the computer fighter is a Blastoise and ours is a Charmander.\n",
    "<br/>Charamender is a fire/fly type Pokemon so its weakness will be:\n",
    "- water\n",
    "- ground\n",
    "- electric\n",
    "- ice\n",
    "\n",
    "And its resistances :\n",
    "- fire\n",
    "- bug\n",
    "- grass\n",
    "- steel\n",
    "- ice\n",
    "<br/>Also fly type has immunity to ground type, which means a fly type Pokemon would never take any damage from a ground move.\n",
    "- ground --> immunity\n",
    "\n",
    "First of all, we have to map all of these parameters :"
   ]
  },
  {
   "cell_type": "code",
   "execution_count": null,
   "metadata": {},
   "outputs": [],
   "source": [
    "# Init type qubits\n",
    "fire_q = QuantumRegister(1, 'fire')\n",
    "grass_q = QuantumRegister(1, 'grass')\n",
    "ground_q = QuantumRegister(1, 'ground')\n",
    "fly_q = QuantumRegister(1, 'fly')\n",
    "water_q = QuantumRegister(1, 'water')\n",
    "elec_q = QuantumRegister(1, 'electric')\n",
    "ice_q = QuantumRegister(1, 'ice')\n",
    "bug_q = QuantumRegister(1, 'bug')\n",
    "steel_q = QuantumRegister(1, 'steel')\n",
    "qc_types = QuantumCircuit(fire_q, grass_q, ground_q, fly_q, water_q, elec_q, ice_q, bug_q, steel_q)\n",
    "\n",
    "# Init charmander\n",
    "fire_weak = [water_q, ground_q]\n",
    "fly_weak = [elec_q, ice_q]\n",
    "fire_resist = [fire_q, bug_q, grass_q, steel_q, ice_q]\n",
    "fly_resist = [grass_q, bug_q]\n",
    "fire_immune = [\"None\"]\n",
    "fly_immune = [ground_q]\n",
    "\n",
    "# Charamenter type map\n",
    "weakFire_q = QuantumRegister(1, 'weak_fire')\n",
    "weakFly_q = QuantumRegister(1, 'weak_fly')\n",
    "checkWeak_q = QuantumRegister(1, 'check_weak')\n",
    "\n",
    "resistFire_q = QuantumRegister(1, 'resist_fire')\n",
    "resistFly_q = QuantumRegister(1, 'resist_fly')\n",
    "immuneFire_q = QuantumRegister(1, 'immunity_fire')\n",
    "immuneFly_q = QuantumRegister(1, 'immunity_fly')\n",
    "qc_charmander = QuantumCircuit(weakFire_q, weakFly_q, checkWeak_q, resistFire_q, resistFly_q, immuneFire_q, immuneFly_q)\n",
    "\n",
    "qc_defenderMapping = qc_types + qc_charmander\n",
    "\n",
    "# Apply gates\n",
    "## Weakness\n",
    "if fire_weak[0] != \"None\":\n",
    "    for i in fire_weak:\n",
    "        qc_defenderMapping.cx(i, weakFire_q)\n",
    "if fly_weak[0] != \"None\":\n",
    "    for i in fly_weak:\n",
    "        qc_defenderMapping.cx(i, weakFly_q)\n",
    "qc_defenderMapping.barrier()\n",
    "## Resistances\n",
    "if fire_resist[0] != \"None\":\n",
    "    for i in fire_resist:\n",
    "        qc_defenderMapping.cx(i, resistFire_q)\n",
    "if fly_resist[0] != \"None\":\n",
    "    for i in fly_resist:\n",
    "        qc_defenderMapping.cx(i, resistFly_q)\n",
    "qc_defenderMapping.barrier()\n",
    "## Immunity\n",
    "if fire_immune[0] != \"None\":\n",
    "    for i in fire_immune:\n",
    "        qc_defenderMapping.cx(i, immuneFire_q)\n",
    "if fly_immune[0] != \"None\":\n",
    "    for i in fly_immune:\n",
    "        qc_defenderMapping.cx(i, immuneFly_q)\n",
    "\n",
    "# Check of the weakness\n",
    "def or_weak(qc):\n",
    "    qc.barrier()\n",
    "    qc.cx(weakFire_q[0], checkWeak_q[0])\n",
    "    qc.cx(weakFly_q[0], checkWeak_q[0])\n",
    "    qc.ccx(weakFly_q[0], weakFire_q[0], checkWeak_q[0])\n",
    "    qc.barrier()\n",
    "qc_orweak = qc_types + qc_charmander\n",
    "\n",
    "or_weak(qc_orweak)\n",
    "\n",
    "(qc_defenderMapping + qc_orweak).draw()"
   ]
  },
  {
   "cell_type": "markdown",
   "metadata": {},
   "source": [
    "Here is the entire mapping for all of the Charmander parameters, the check weakness qubit is used to check if the move can be super effective or not. Now let's add the attack mapping."
   ]
  },
  {
   "cell_type": "code",
   "execution_count": null,
   "metadata": {},
   "outputs": [],
   "source": [
    "qc_algo = qc_init + qc_qram + qc_defenderMapping + qc_orweak\n",
    "\n",
    "qc_algo.draw()"
   ]
  },
  {
   "cell_type": "markdown",
   "metadata": {},
   "source": [
    "Now we have to design our oracle such that it flips when the input is a correct answer. For that we will use a CNOT gate on the check qubits, on both resist qubits and on both immune qubits too:\n",
    "- The check qubit indicates if a move is strong or not against the target\n",
    "- The resist qubit is in 0 and will stay in 0 if the move is strong or very strong\n",
    "- The immune qubit stays in 0 if the move can cause damage to the target\n",
    "\n",
    "For the resistance qubits and the immune qubits, we will surround them by X gates to make sure flipping occurs if they are in 0, (ie) it's an effective move."
   ]
  },
  {
   "cell_type": "code",
   "execution_count": null,
   "metadata": {},
   "outputs": [],
   "source": [
    "oracle_q = QuantumRegister(1, 'oracle')\n",
    "qc_oracle = QuantumCircuit(oracle_q)\n",
    "qc_oracle.x(oracle_q)\n",
    "qc_oracle.h(oracle_q)\n",
    "\n",
    "# Glueing everything together\n",
    "qc_finale = qc_oracle + qc_init + qc_qram + qc_defenderMapping + qc_orweak\n",
    "\n",
    "qc_finale.x([resistFire_q[0], resistFly_q[0], immuneFire_q[0], immuneFly_q[0]])\n",
    "qc_finale.mcx([checkWeak_q, resistFire_q, resistFly_q, immuneFire_q, immuneFly_q], oracle_q)\n",
    "qc_finale.x([resistFire_q[0], resistFly_q[0], immuneFire_q[0], immuneFly_q[0]])\n",
    "qc_finale.barrier()\n",
    "\n",
    "qc_finale.draw()"
   ]
  },
  {
   "cell_type": "markdown",
   "metadata": {},
   "source": [
    "Now, our entire algorithm is finished, and in order to not have errors in the distribution we need to repeat in reverse the entire algorithm a second time (except the oracle part) to uncompute the whole transformation. And finally we just need to apply our diffuser and measurements, allowing us to finally see the result."
   ]
  },
  {
   "cell_type": "code",
   "execution_count": null,
   "metadata": {},
   "outputs": [],
   "source": [
    "def diffuser(nqubits):\n",
    "    qc = QuantumCircuit(nqubits)\n",
    "    for qubit in range(nqubits):\n",
    "        qc.h(qubit)\n",
    "    for qubit in range(nqubits):\n",
    "        qc.x(qubit)\n",
    "    qc.h(nqubits - 1)\n",
    "    qc.mct(list(range(nqubits - 1)), nqubits - 1)\n",
    "    qc.h(nqubits - 1)\n",
    "    for qubit in range(nqubits):\n",
    "        qc.x(qubit)\n",
    "    for qubit in range(nqubits):\n",
    "        qc.h(qubit)\n",
    "    U_s = qc.to_gate()\n",
    "    U_s.name = \"$U_s$\"\n",
    "    return qc\n",
    "\n",
    "\n",
    "qc_finale = qc_oracle + qc_init \n",
    "for i in range(1):\n",
    "    qc_finale = qc_finale + qc_qram + qc_defenderMapping + qc_orweak\n",
    "\n",
    "    qc_finale.x([resistFire_q[0], resistFly_q[0], immuneFire_q[0], immuneFly_q[0]])\n",
    "    qc_finale.mcx([checkWeak_q, resistFire_q, resistFly_q, immuneFire_q, immuneFly_q], oracle_q)\n",
    "    qc_finale.x([resistFire_q[0], resistFly_q[0], immuneFire_q[0], immuneFly_q[0]])\n",
    "\n",
    "    qc_finale = qc_finale + qc_orweak + qc_defenderMapping + qc_qram\n",
    "\n",
    "    qc_finale.append(diffuser(2), [1, 2])\n",
    "    \n",
    "qc_finale.barrier()\n",
    "qc_finale.measure(qram_q, range(2))\n",
    "\n",
    "qc_finale.draw()"
   ]
  },
  {
   "cell_type": "code",
   "execution_count": null,
   "metadata": {},
   "outputs": [],
   "source": [
    "qc = qc_finale.reverse_bits()\n",
    "job = execute(qc, backend_sim, shots=512)\n",
    "result_job = job.result()\n",
    "plot_histogram(result_job.get_counts())"
   ]
  },
  {
   "cell_type": "markdown",
   "metadata": {},
   "source": [
    "As we can see the only answer is the attack encoded in the address 00, which denotes hydroblast, a water attack, one of the weakness(es) of Charmander. That's exactly what we wanted for our output.\n",
    "<br/>Finally, the global structure of the circuit is looks like this:"
   ]
  },
  {
   "cell_type": "code",
   "execution_count": null,
   "metadata": {
    "scrolled": false
   },
   "outputs": [],
   "source": [
    "oracle_q = QuantumRegister(1, 'oracle')\n",
    "qram_q = QuantumRegister(2, 'qram')\n",
    "\n",
    "fire_q = QuantumRegister(1, 'fire')\n",
    "grass_q = QuantumRegister(1, 'grass')\n",
    "ground_q = QuantumRegister(1, 'ground')\n",
    "fly_q = QuantumRegister(1, 'fly')\n",
    "water_q = QuantumRegister(1, 'water')\n",
    "elec_q = QuantumRegister(1, 'electrick')\n",
    "ice_q = QuantumRegister(1, 'ice')\n",
    "bug_q = QuantumRegister(1, 'bug')\n",
    "steel_q = QuantumRegister(1, 'steel')\n",
    "normal_q = QuantumRegister(1, 'normal')\n",
    "\n",
    "resistFire_q = QuantumRegister(1, 'resist_fire')\n",
    "resistFly_q = QuantumRegister(1, 'resist_fly')\n",
    "immuneFire_q = QuantumRegister(1, 'immunity_fire')\n",
    "immuneFly_q = QuantumRegister(1, 'immunity_fly')\n",
    "weakFire_q = QuantumRegister(1, 'weak_fire')\n",
    "weakFly_q = QuantumRegister(1, 'weak_fly')\n",
    "checkWeak_q = QuantumRegister(1, 'check_weak')\n",
    "\n",
    "c = ClassicalRegister(2, 'measure')\n",
    "\n",
    "qc = QuantumCircuit(oracle_q, qram_q, fire_q, grass_q, ground_q, fly_q, water_q, elec_q, ice_q, bug_q, \n",
    "                    steel_q, normal_q, resistFire_q, resistFly_q, immuneFire_q, immuneFly_q, \n",
    "                    weakFire_q, weakFly_q, checkWeak_q, c)\n",
    "\n",
    "def qram(nqubits):\n",
    "    qc = QuantumCircuit(nqubits)\n",
    "    U_s = qc.to_gate()\n",
    "    U_s.name = \"$QRAM$\"\n",
    "    return U_s\n",
    "\n",
    "def defenderMapping(nqubits):\n",
    "    qc = QuantumCircuit(nqubits)\n",
    "    U_s = qc.to_gate()\n",
    "    U_s.name = \"$mappingChara$\"\n",
    "    return U_s\n",
    "\n",
    "def orweak(nqubits):\n",
    "    qc = QuantumCircuit(nqubits)\n",
    "    U_s = qc.to_gate()\n",
    "    U_s.name = \"$weakCheck$\"\n",
    "    return U_s\n",
    "\n",
    "def diffuser(nqubits):\n",
    "    qc = QuantumCircuit(nqubits)\n",
    "    U_s = qc.to_gate()\n",
    "    U_s.name = \"$diffuser$\"\n",
    "    return U_s\n",
    "\n",
    "# Init\n",
    "qc.x(oracle_q)\n",
    "qc.h(oracle_q)\n",
    "qc.h(qram_q)\n",
    "qc.barrier()\n",
    "\n",
    "for i in range(1):\n",
    "    # Qram\n",
    "    qc.append(qram(12), [1, 2, 3, 4, 5, 6, 7, 8, 9, 10, 11, 12])\n",
    "    # Algo\n",
    "    qc.append(defenderMapping(16), [3, 4, 5, 6, 7, 8, 9, 10, 11, 12, 13, 14, 15, 16, 17, 18])\n",
    "    qc.append(orweak(3), [17, 18, 19])\n",
    "\n",
    "    # Oracle\n",
    "    qc.barrier()\n",
    "    qc.x([resistFire_q[0], resistFly_q[0], immuneFire_q[0], immuneFly_q[0]])\n",
    "    qc.mcx([checkWeak_q, resistFire_q, resistFly_q, immuneFire_q, immuneFly_q], oracle_q)\n",
    "    qc.x([resistFire_q[0], resistFly_q[0], immuneFire_q[0], immuneFly_q[0]])\n",
    "    qc.barrier()\n",
    "\n",
    "    # Uncompute\n",
    "    qc.append(orweak(3), [17, 18, 19])\n",
    "    qc.append(defenderMapping(16), [3, 4, 5, 6, 7, 8, 9, 10, 11, 12, 13, 14, 15, 16, 17, 18])\n",
    "    qc.append(qram(12), [1, 2, 3, 4, 5, 6, 7, 8, 9, 10, 11, 12])\n",
    "\n",
    "    # Diffuser\n",
    "    qc.append(diffuser(2), [1, 2])\n",
    "    \n",
    "qc.barrier()\n",
    "qc.measure(qram_q, range(2))\n",
    "\n",
    "qc.draw()"
   ]
  },
  {
   "cell_type": "markdown",
   "metadata": {},
   "source": [
    "## And now? <a class=\"anchor\" id=\"then\"></a>\n",
    "Of course, this program is not perfect, it only encodes 8 Pokemons and only attack moves. But the main problem is the program doesn't have any graphics and would need a window with both pokemons players, attack choose menu and life indicators.\n",
    "Is you feel the same that the program needs graphics or others cool features like improvements on the AI, do not hesitate to go to my [GitHub repository](https://github.com/mickahell/quantum_pokemon-fight) and create an issue so that I can grant you access for working together on this."
   ]
  },
  {
   "cell_type": "markdown",
   "metadata": {},
   "source": [
    "## References <a class=\"anchor\" id=\"references\"></a>\n",
    "1. Qiskit Textbook [Grover's Algorithm](https://qiskit.org/textbook/ch-algorithms/grover.html)\n",
    "2. Wikipedia, [Vertex cover](https://en.wikipedia.org/wiki/Vertex_cover)\n",
    "3. [Graph Online](https://graphonline.ru/en/?graph=BipartiteGraph)\n",
    "4. Quantum Pokemon Fight, [GitHub](https://github.com/mickahell/quantum_pokemon-fight)"
   ]
  },
  {
   "cell_type": "markdown",
   "metadata": {},
   "source": [
    "## Author \n",
    "Michaël Rollin, [GitHub](https://github.com/mickahell), [Twitter](https://twitter.com/mickahell89700), [Linkedin](https://www.linkedin.com/in/michaelrollin/)"
   ]
  }
 ],
 "metadata": {
  "kernelspec": {
   "display_name": "Python 3",
   "language": "python",
   "name": "python3"
  },
  "language_info": {
   "codemirror_mode": {
    "name": "ipython",
    "version": 3
   },
   "file_extension": ".py",
   "mimetype": "text/x-python",
   "name": "python",
   "nbconvert_exporter": "python",
   "pygments_lexer": "ipython3",
   "version": "3.7.6"
  }
 },
 "nbformat": 4,
 "nbformat_minor": 4
}
